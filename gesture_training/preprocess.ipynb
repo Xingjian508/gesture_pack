{
 "cells": [
  {
   "cell_type": "code",
   "execution_count": 18,
   "metadata": {},
   "outputs": [
    {
     "name": "stdout",
     "output_type": "stream",
     "text": [
      "Conversion complete!\n"
     ]
    }
   ],
   "source": [
    "import os\n",
    "import imageio.v3 as iio\n",
    "from PIL import Image, UnidentifiedImageError\n",
    "import pillow_heif\n",
    "\n",
    "input_dir = 'dataset/archive/raw_right_no_zot'\n",
    "output_dir = 'dataset/archive/right_no_zot'\n",
    "\n",
    "os.makedirs(output_dir, exist_ok=True)\n",
    "\n",
    "valid_extensions = ('.jpg', '.jpeg', '.heic', '.png', '.JPG', '.JPEG', '.HEIC', '.PNG')\n",
    "\n",
    "for filename in os.listdir(input_dir):\n",
    "  img_path = os.path.join(input_dir, filename)\n",
    "  try:\n",
    "    if filename.lower().endswith('.heic'):\n",
    "      heif_file = pillow_heif.open_heif(img_path)\n",
    "      img = Image.frombytes(\n",
    "        heif_file.mode,\n",
    "        heif_file.size,\n",
    "        heif_file.data,\n",
    "        \"raw\",\n",
    "        heif_file.mode,\n",
    "      )\n",
    "    elif filename.lower().endswith(valid_extensions):\n",
    "      img = iio.imread(img_path)\n",
    "      img = Image.fromarray(img)\n",
    "    else:\n",
    "      print(f\"Skipping file {filename}: Unsupported file extension\")\n",
    "      continue\n",
    "    \n",
    "    if img.height > img.width:\n",
    "      img = img.rotate(90, expand=True)\n",
    "    \n",
    "    img = img.resize((300, 200))\n",
    "    base_filename = os.path.splitext(filename)[0]\n",
    "    img.save(os.path.join(output_dir, f\"{base_filename}.png\"))\n",
    "  \n",
    "  except (UnidentifiedImageError, ValueError, OSError) as e:\n",
    "    print(f\"Skipping file {filename}: {e}\")\n",
    "\n",
    "print(\"Conversion complete!\")\n"
   ]
  }
 ],
 "metadata": {
  "kernelspec": {
   "display_name": ".venv",
   "language": "python",
   "name": "python3"
  },
  "language_info": {
   "codemirror_mode": {
    "name": "ipython",
    "version": 3
   },
   "file_extension": ".py",
   "mimetype": "text/x-python",
   "name": "python",
   "nbconvert_exporter": "python",
   "pygments_lexer": "ipython3",
   "version": "3.10.7"
  }
 },
 "nbformat": 4,
 "nbformat_minor": 2
}
